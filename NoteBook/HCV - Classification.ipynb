{
 "cells": [
  {
   "cell_type": "code",
   "execution_count": 1,
   "id": "c0a9b824",
   "metadata": {},
   "outputs": [],
   "source": [
    "import pandas as pd\n",
    "import numpy as np\n",
    "import matplotlib.pyplot as plt\n",
    "%matplotlib inline\n",
    "import seaborn as sns\n",
    "import os\n",
    "import warnings\n",
    "warnings.filterwarnings('ignore')\n",
    "from time import perf_counter"
   ]
  },
  {
   "cell_type": "markdown",
   "id": "50229463",
   "metadata": {},
   "source": [
    "##### Hepatitis C virus (HCV) is a small, single-stranded RNA virus that primarily infects the liver and is a major cause of chronic viral hepatitis.\n",
    "\n",
    "HCV is transmitted primarily through exposure to infected blood, which can occur through various means, including:\n",
    "\n",
    "1.Sharing of needles and syringes among drug users\n",
    "\n",
    "2.Receiving contaminated blood transfusions or organ transplants (though this is now rare due to improved screening           measures)\n",
    "\n",
    "3.Using contaminated medical equipment, such as needles and syringes, in healthcare settings\n",
    "\n",
    "4.From mother to child during childbirth, although this is relatively uncommon\n",
    "\n",
    "5.Less commonly, through sexual contact with an infected person"
   ]
  },
  {
   "cell_type": "markdown",
   "id": "5e933039",
   "metadata": {},
   "source": [
    "##### This data is observed from Egyptian Patients for who underwent treatment dosages for HCV about 18 months"
   ]
  },
  {
   "cell_type": "code",
   "execution_count": 2,
   "id": "eda16cd3",
   "metadata": {},
   "outputs": [],
   "source": [
    "# Load DataSet\n",
    "\n",
    "df = pd.read_csv(\"HCV-Egy-Data.csv\")"
   ]
  },
  {
   "cell_type": "code",
   "execution_count": 3,
   "id": "c39b2256",
   "metadata": {},
   "outputs": [
    {
     "data": {
      "text/html": [
       "<div>\n",
       "<style scoped>\n",
       "    .dataframe tbody tr th:only-of-type {\n",
       "        vertical-align: middle;\n",
       "    }\n",
       "\n",
       "    .dataframe tbody tr th {\n",
       "        vertical-align: top;\n",
       "    }\n",
       "\n",
       "    .dataframe thead th {\n",
       "        text-align: right;\n",
       "    }\n",
       "</style>\n",
       "<table border=\"1\" class=\"dataframe\">\n",
       "  <thead>\n",
       "    <tr style=\"text-align: right;\">\n",
       "      <th></th>\n",
       "      <th>Age</th>\n",
       "      <th>Gender</th>\n",
       "      <th>BMI</th>\n",
       "      <th>Fever</th>\n",
       "      <th>Nausea/Vomting</th>\n",
       "      <th>Headache</th>\n",
       "      <th>Diarrhea</th>\n",
       "      <th>Fatigue &amp; generalized bone ache</th>\n",
       "      <th>Jaundice</th>\n",
       "      <th>Epigastric pain</th>\n",
       "      <th>...</th>\n",
       "      <th>ALT 36</th>\n",
       "      <th>ALT 48</th>\n",
       "      <th>ALT after 24 w</th>\n",
       "      <th>RNA Base</th>\n",
       "      <th>RNA 4</th>\n",
       "      <th>RNA 12</th>\n",
       "      <th>RNA EOT</th>\n",
       "      <th>RNA EF</th>\n",
       "      <th>Baseline histological Grading</th>\n",
       "      <th>Baselinehistological staging</th>\n",
       "    </tr>\n",
       "  </thead>\n",
       "  <tbody>\n",
       "    <tr>\n",
       "      <th>0</th>\n",
       "      <td>56</td>\n",
       "      <td>1</td>\n",
       "      <td>35</td>\n",
       "      <td>2</td>\n",
       "      <td>1</td>\n",
       "      <td>1</td>\n",
       "      <td>1</td>\n",
       "      <td>2</td>\n",
       "      <td>2</td>\n",
       "      <td>2</td>\n",
       "      <td>...</td>\n",
       "      <td>5</td>\n",
       "      <td>5</td>\n",
       "      <td>5</td>\n",
       "      <td>655330</td>\n",
       "      <td>634536</td>\n",
       "      <td>288194</td>\n",
       "      <td>5</td>\n",
       "      <td>5</td>\n",
       "      <td>13</td>\n",
       "      <td>2</td>\n",
       "    </tr>\n",
       "    <tr>\n",
       "      <th>1</th>\n",
       "      <td>46</td>\n",
       "      <td>1</td>\n",
       "      <td>29</td>\n",
       "      <td>1</td>\n",
       "      <td>2</td>\n",
       "      <td>2</td>\n",
       "      <td>1</td>\n",
       "      <td>2</td>\n",
       "      <td>2</td>\n",
       "      <td>1</td>\n",
       "      <td>...</td>\n",
       "      <td>57</td>\n",
       "      <td>123</td>\n",
       "      <td>44</td>\n",
       "      <td>40620</td>\n",
       "      <td>538635</td>\n",
       "      <td>637056</td>\n",
       "      <td>336804</td>\n",
       "      <td>31085</td>\n",
       "      <td>4</td>\n",
       "      <td>2</td>\n",
       "    </tr>\n",
       "    <tr>\n",
       "      <th>2</th>\n",
       "      <td>57</td>\n",
       "      <td>1</td>\n",
       "      <td>33</td>\n",
       "      <td>2</td>\n",
       "      <td>2</td>\n",
       "      <td>2</td>\n",
       "      <td>2</td>\n",
       "      <td>1</td>\n",
       "      <td>1</td>\n",
       "      <td>1</td>\n",
       "      <td>...</td>\n",
       "      <td>5</td>\n",
       "      <td>5</td>\n",
       "      <td>5</td>\n",
       "      <td>571148</td>\n",
       "      <td>661346</td>\n",
       "      <td>5</td>\n",
       "      <td>735945</td>\n",
       "      <td>558829</td>\n",
       "      <td>4</td>\n",
       "      <td>4</td>\n",
       "    </tr>\n",
       "    <tr>\n",
       "      <th>3</th>\n",
       "      <td>49</td>\n",
       "      <td>2</td>\n",
       "      <td>33</td>\n",
       "      <td>1</td>\n",
       "      <td>2</td>\n",
       "      <td>1</td>\n",
       "      <td>2</td>\n",
       "      <td>1</td>\n",
       "      <td>2</td>\n",
       "      <td>1</td>\n",
       "      <td>...</td>\n",
       "      <td>48</td>\n",
       "      <td>77</td>\n",
       "      <td>33</td>\n",
       "      <td>1041941</td>\n",
       "      <td>449939</td>\n",
       "      <td>585688</td>\n",
       "      <td>744463</td>\n",
       "      <td>582301</td>\n",
       "      <td>10</td>\n",
       "      <td>3</td>\n",
       "    </tr>\n",
       "    <tr>\n",
       "      <th>4</th>\n",
       "      <td>59</td>\n",
       "      <td>1</td>\n",
       "      <td>32</td>\n",
       "      <td>1</td>\n",
       "      <td>1</td>\n",
       "      <td>2</td>\n",
       "      <td>1</td>\n",
       "      <td>2</td>\n",
       "      <td>2</td>\n",
       "      <td>2</td>\n",
       "      <td>...</td>\n",
       "      <td>94</td>\n",
       "      <td>90</td>\n",
       "      <td>30</td>\n",
       "      <td>660410</td>\n",
       "      <td>738756</td>\n",
       "      <td>3731527</td>\n",
       "      <td>338946</td>\n",
       "      <td>242861</td>\n",
       "      <td>11</td>\n",
       "      <td>1</td>\n",
       "    </tr>\n",
       "  </tbody>\n",
       "</table>\n",
       "<p>5 rows × 29 columns</p>\n",
       "</div>"
      ],
      "text/plain": [
       "   Age   Gender  BMI  Fever  Nausea/Vomting  Headache   Diarrhea   \\\n",
       "0    56       1   35      2               1          1          1   \n",
       "1    46       1   29      1               2          2          1   \n",
       "2    57       1   33      2               2          2          2   \n",
       "3    49       2   33      1               2          1          2   \n",
       "4    59       1   32      1               1          2          1   \n",
       "\n",
       "   Fatigue & generalized bone ache   Jaundice   Epigastric pain   ...  ALT 36  \\\n",
       "0                                 2          2                 2  ...       5   \n",
       "1                                 2          2                 1  ...      57   \n",
       "2                                 1          1                 1  ...       5   \n",
       "3                                 1          2                 1  ...      48   \n",
       "4                                 2          2                 2  ...      94   \n",
       "\n",
       "   ALT 48  ALT after 24 w  RNA Base   RNA 4   RNA 12  RNA EOT  RNA EF  \\\n",
       "0       5               5    655330  634536   288194        5       5   \n",
       "1     123              44     40620  538635   637056   336804   31085   \n",
       "2       5               5    571148  661346        5   735945  558829   \n",
       "3      77              33   1041941  449939   585688   744463  582301   \n",
       "4      90              30    660410  738756  3731527   338946  242861   \n",
       "\n",
       "   Baseline histological Grading  Baselinehistological staging  \n",
       "0                             13                             2  \n",
       "1                              4                             2  \n",
       "2                              4                             4  \n",
       "3                             10                             3  \n",
       "4                             11                             1  \n",
       "\n",
       "[5 rows x 29 columns]"
      ]
     },
     "execution_count": 3,
     "metadata": {},
     "output_type": "execute_result"
    }
   ],
   "source": [
    "df.head()"
   ]
  },
  {
   "cell_type": "code",
   "execution_count": 4,
   "id": "b82339ee",
   "metadata": {},
   "outputs": [
    {
     "data": {
      "text/plain": [
       "(1385, 29)"
      ]
     },
     "execution_count": 4,
     "metadata": {},
     "output_type": "execute_result"
    }
   ],
   "source": [
    "df.shape"
   ]
  },
  {
   "cell_type": "markdown",
   "id": "90b428e5",
   "metadata": {},
   "source": [
    "##### There are 1385 records, each one with 29 features"
   ]
  },
  {
   "cell_type": "code",
   "execution_count": 5,
   "id": "79d03ddb",
   "metadata": {},
   "outputs": [
    {
     "data": {
      "text/plain": [
       "Index(['Age ', 'Gender', 'BMI', 'Fever', 'Nausea/Vomting', 'Headache ',\n",
       "       'Diarrhea ', 'Fatigue & generalized bone ache ', 'Jaundice ',\n",
       "       'Epigastric pain ', 'WBC', 'RBC', 'HGB', 'Plat', 'AST 1', 'ALT 1',\n",
       "       'ALT4', 'ALT 12', 'ALT 24', 'ALT 36', 'ALT 48', 'ALT after 24 w',\n",
       "       'RNA Base', 'RNA 4', 'RNA 12', 'RNA EOT', 'RNA EF',\n",
       "       'Baseline histological Grading', 'Baselinehistological staging'],\n",
       "      dtype='object')"
      ]
     },
     "execution_count": 5,
     "metadata": {},
     "output_type": "execute_result"
    }
   ],
   "source": [
    "df.columns"
   ]
  },
  {
   "cell_type": "code",
   "execution_count": 6,
   "id": "d4deab01",
   "metadata": {},
   "outputs": [],
   "source": [
    "#Remove spaces at the ends of column names to avoid any further errors:\n",
    "df.columns = df.columns.str.strip()\n",
    "\n",
    "#Renaming columns\n",
    "column_name_mapping = {'Nausea/Vomting': 'Nausea', 'Fatigue & generalized bone ache':'Fatigue',\n",
    "                       'Epigastric pain':'Epigastric', 'Baseline histological Grading': 'Grading',\n",
    "                       'Baselinehistological staging':'Staging','AST 1': 'AST1', 'ALT 1':'ALT1',\n",
    "                       'ALT 12': 'ALT12','ALT 24': 'ALT24', 'ALT 36': 'ALT36', 'ALT 48':'ALT48', 'ALT after 24 w':'ALTw24',\n",
    "                       'RNA Base': 'RNA_base', 'RNA 4':'RNA4', 'RNA 12':'RNA12', 'RNA EOT':'RNA_eot',\n",
    "                       'RNA EF': 'RNA_ef'}\n",
    "df.rename(columns=column_name_mapping, inplace=True)"
   ]
  },
  {
   "cell_type": "code",
   "execution_count": 7,
   "id": "aa2bc3af",
   "metadata": {},
   "outputs": [],
   "source": [
    "#Remove spaces at the ends of column names to avoid any further errors:\n",
    "df.columns = df.columns.str.strip()"
   ]
  },
  {
   "cell_type": "code",
   "execution_count": 8,
   "id": "543ee28d",
   "metadata": {},
   "outputs": [
    {
     "data": {
      "text/plain": [
       "Index(['Age', 'Gender', 'BMI', 'Fever', 'Nausea', 'Headache', 'Diarrhea',\n",
       "       'Fatigue', 'Jaundice', 'Epigastric', 'WBC', 'RBC', 'HGB', 'Plat',\n",
       "       'AST1', 'ALT1', 'ALT4', 'ALT12', 'ALT24', 'ALT36', 'ALT48', 'ALTw24',\n",
       "       'RNA_base', 'RNA4', 'RNA12', 'RNA_eot', 'RNA_ef', 'Grading', 'Staging'],\n",
       "      dtype='object')"
      ]
     },
     "execution_count": 8,
     "metadata": {},
     "output_type": "execute_result"
    }
   ],
   "source": [
    "df.columns"
   ]
  },
  {
   "cell_type": "code",
   "execution_count": 9,
   "id": "03a6676a",
   "metadata": {},
   "outputs": [
    {
     "name": "stdout",
     "output_type": "stream",
     "text": [
      "<class 'pandas.core.frame.DataFrame'>\n",
      "RangeIndex: 1385 entries, 0 to 1384\n",
      "Data columns (total 29 columns):\n",
      " #   Column      Non-Null Count  Dtype\n",
      "---  ------      --------------  -----\n",
      " 0   Age         1385 non-null   int64\n",
      " 1   Gender      1385 non-null   int64\n",
      " 2   BMI         1385 non-null   int64\n",
      " 3   Fever       1385 non-null   int64\n",
      " 4   Nausea      1385 non-null   int64\n",
      " 5   Headache    1385 non-null   int64\n",
      " 6   Diarrhea    1385 non-null   int64\n",
      " 7   Fatigue     1385 non-null   int64\n",
      " 8   Jaundice    1385 non-null   int64\n",
      " 9   Epigastric  1385 non-null   int64\n",
      " 10  WBC         1385 non-null   int64\n",
      " 11  RBC         1385 non-null   int64\n",
      " 12  HGB         1385 non-null   int64\n",
      " 13  Plat        1385 non-null   int64\n",
      " 14  AST1        1385 non-null   int64\n",
      " 15  ALT1        1385 non-null   int64\n",
      " 16  ALT4        1385 non-null   int64\n",
      " 17  ALT12       1385 non-null   int64\n",
      " 18  ALT24       1385 non-null   int64\n",
      " 19  ALT36       1385 non-null   int64\n",
      " 20  ALT48       1385 non-null   int64\n",
      " 21  ALTw24      1385 non-null   int64\n",
      " 22  RNA_base    1385 non-null   int64\n",
      " 23  RNA4        1385 non-null   int64\n",
      " 24  RNA12       1385 non-null   int64\n",
      " 25  RNA_eot     1385 non-null   int64\n",
      " 26  RNA_ef      1385 non-null   int64\n",
      " 27  Grading     1385 non-null   int64\n",
      " 28  Staging     1385 non-null   int64\n",
      "dtypes: int64(29)\n",
      "memory usage: 313.9 KB\n"
     ]
    }
   ],
   "source": [
    "df.info()"
   ]
  },
  {
   "cell_type": "code",
   "execution_count": 10,
   "id": "5ccc0b9f",
   "metadata": {},
   "outputs": [
    {
     "data": {
      "text/plain": [
       "0"
      ]
     },
     "execution_count": 10,
     "metadata": {},
     "output_type": "execute_result"
    }
   ],
   "source": [
    "df.isnull().sum().sum()"
   ]
  },
  {
   "cell_type": "code",
   "execution_count": 11,
   "id": "e2a62821",
   "metadata": {},
   "outputs": [
    {
     "name": "stdout",
     "output_type": "stream",
     "text": [
      "1    707\n",
      "2    678\n",
      "Name: Gender, dtype: int64\n",
      "2    714\n",
      "1    671\n",
      "Name: Fever, dtype: int64\n",
      "2    696\n",
      "1    689\n",
      "Name: Nausea, dtype: int64\n",
      "1    698\n",
      "2    687\n",
      "Name: Headache, dtype: int64\n",
      "2    696\n",
      "1    689\n",
      "Name: Diarrhea, dtype: int64\n",
      "1    694\n",
      "2    691\n",
      "Name: Fatigue, dtype: int64\n",
      "2    694\n",
      "1    691\n",
      "Name: Jaundice, dtype: int64\n",
      "2    698\n",
      "1    687\n",
      "Name: Epigastric, dtype: int64\n"
     ]
    }
   ],
   "source": [
    "cat_cols = ['Gender', 'Fever', 'Nausea', 'Headache', 'Diarrhea', 'Fatigue', 'Jaundice', 'Epigastric' ]\n",
    "\n",
    "for col in cat_cols:\n",
    "  print(df[col].value_counts())"
   ]
  },
  {
   "cell_type": "code",
   "execution_count": 12,
   "id": "0864199d",
   "metadata": {},
   "outputs": [
    {
     "data": {
      "text/html": [
       "<div>\n",
       "<style scoped>\n",
       "    .dataframe tbody tr th:only-of-type {\n",
       "        vertical-align: middle;\n",
       "    }\n",
       "\n",
       "    .dataframe tbody tr th {\n",
       "        vertical-align: top;\n",
       "    }\n",
       "\n",
       "    .dataframe thead th {\n",
       "        text-align: right;\n",
       "    }\n",
       "</style>\n",
       "<table border=\"1\" class=\"dataframe\">\n",
       "  <thead>\n",
       "    <tr style=\"text-align: right;\">\n",
       "      <th></th>\n",
       "      <th>WBC</th>\n",
       "      <th>RBC</th>\n",
       "      <th>HGB</th>\n",
       "      <th>Plat</th>\n",
       "    </tr>\n",
       "  </thead>\n",
       "  <tbody>\n",
       "    <tr>\n",
       "      <th>0</th>\n",
       "      <td>7425</td>\n",
       "      <td>4248807</td>\n",
       "      <td>14</td>\n",
       "      <td>112132</td>\n",
       "    </tr>\n",
       "    <tr>\n",
       "      <th>1</th>\n",
       "      <td>12101</td>\n",
       "      <td>4429425</td>\n",
       "      <td>10</td>\n",
       "      <td>129367</td>\n",
       "    </tr>\n",
       "    <tr>\n",
       "      <th>2</th>\n",
       "      <td>4178</td>\n",
       "      <td>4621191</td>\n",
       "      <td>12</td>\n",
       "      <td>151522</td>\n",
       "    </tr>\n",
       "    <tr>\n",
       "      <th>3</th>\n",
       "      <td>6490</td>\n",
       "      <td>4794631</td>\n",
       "      <td>10</td>\n",
       "      <td>146457</td>\n",
       "    </tr>\n",
       "    <tr>\n",
       "      <th>4</th>\n",
       "      <td>3661</td>\n",
       "      <td>4606375</td>\n",
       "      <td>11</td>\n",
       "      <td>187684</td>\n",
       "    </tr>\n",
       "    <tr>\n",
       "      <th>...</th>\n",
       "      <td>...</td>\n",
       "      <td>...</td>\n",
       "      <td>...</td>\n",
       "      <td>...</td>\n",
       "    </tr>\n",
       "    <tr>\n",
       "      <th>1380</th>\n",
       "      <td>7044</td>\n",
       "      <td>4957174</td>\n",
       "      <td>15</td>\n",
       "      <td>202520</td>\n",
       "    </tr>\n",
       "    <tr>\n",
       "      <th>1381</th>\n",
       "      <td>6207</td>\n",
       "      <td>4636951</td>\n",
       "      <td>10</td>\n",
       "      <td>115776</td>\n",
       "    </tr>\n",
       "    <tr>\n",
       "      <th>1382</th>\n",
       "      <td>4913</td>\n",
       "      <td>4122038</td>\n",
       "      <td>14</td>\n",
       "      <td>128354</td>\n",
       "    </tr>\n",
       "    <tr>\n",
       "      <th>1383</th>\n",
       "      <td>7257</td>\n",
       "      <td>4241990</td>\n",
       "      <td>10</td>\n",
       "      <td>205908</td>\n",
       "    </tr>\n",
       "    <tr>\n",
       "      <th>1384</th>\n",
       "      <td>11832</td>\n",
       "      <td>4059176</td>\n",
       "      <td>14</td>\n",
       "      <td>136615</td>\n",
       "    </tr>\n",
       "  </tbody>\n",
       "</table>\n",
       "<p>1385 rows × 4 columns</p>\n",
       "</div>"
      ],
      "text/plain": [
       "        WBC      RBC  HGB    Plat\n",
       "0      7425  4248807   14  112132\n",
       "1     12101  4429425   10  129367\n",
       "2      4178  4621191   12  151522\n",
       "3      6490  4794631   10  146457\n",
       "4      3661  4606375   11  187684\n",
       "...     ...      ...  ...     ...\n",
       "1380   7044  4957174   15  202520\n",
       "1381   6207  4636951   10  115776\n",
       "1382   4913  4122038   14  128354\n",
       "1383   7257  4241990   10  205908\n",
       "1384  11832  4059176   14  136615\n",
       "\n",
       "[1385 rows x 4 columns]"
      ]
     },
     "execution_count": 12,
     "metadata": {},
     "output_type": "execute_result"
    }
   ],
   "source": [
    "df[['WBC', 'RBC', 'HGB', 'Plat' ]]"
   ]
  },
  {
   "cell_type": "code",
   "execution_count": 13,
   "id": "ad5b7d57",
   "metadata": {},
   "outputs": [
    {
     "data": {
      "text/html": [
       "<div>\n",
       "<style scoped>\n",
       "    .dataframe tbody tr th:only-of-type {\n",
       "        vertical-align: middle;\n",
       "    }\n",
       "\n",
       "    .dataframe tbody tr th {\n",
       "        vertical-align: top;\n",
       "    }\n",
       "\n",
       "    .dataframe thead th {\n",
       "        text-align: right;\n",
       "    }\n",
       "</style>\n",
       "<table border=\"1\" class=\"dataframe\">\n",
       "  <thead>\n",
       "    <tr style=\"text-align: right;\">\n",
       "      <th></th>\n",
       "      <th>AST1</th>\n",
       "      <th>ALT1</th>\n",
       "      <th>ALT4</th>\n",
       "      <th>ALT12</th>\n",
       "      <th>ALT24</th>\n",
       "      <th>ALT36</th>\n",
       "      <th>ALT48</th>\n",
       "      <th>ALTw24</th>\n",
       "    </tr>\n",
       "  </thead>\n",
       "  <tbody>\n",
       "    <tr>\n",
       "      <th>0</th>\n",
       "      <td>99</td>\n",
       "      <td>84</td>\n",
       "      <td>52</td>\n",
       "      <td>109</td>\n",
       "      <td>81</td>\n",
       "      <td>5</td>\n",
       "      <td>5</td>\n",
       "      <td>5</td>\n",
       "    </tr>\n",
       "    <tr>\n",
       "      <th>1</th>\n",
       "      <td>91</td>\n",
       "      <td>123</td>\n",
       "      <td>95</td>\n",
       "      <td>75</td>\n",
       "      <td>113</td>\n",
       "      <td>57</td>\n",
       "      <td>123</td>\n",
       "      <td>44</td>\n",
       "    </tr>\n",
       "    <tr>\n",
       "      <th>2</th>\n",
       "      <td>113</td>\n",
       "      <td>49</td>\n",
       "      <td>95</td>\n",
       "      <td>107</td>\n",
       "      <td>116</td>\n",
       "      <td>5</td>\n",
       "      <td>5</td>\n",
       "      <td>5</td>\n",
       "    </tr>\n",
       "    <tr>\n",
       "      <th>3</th>\n",
       "      <td>43</td>\n",
       "      <td>64</td>\n",
       "      <td>109</td>\n",
       "      <td>80</td>\n",
       "      <td>88</td>\n",
       "      <td>48</td>\n",
       "      <td>77</td>\n",
       "      <td>33</td>\n",
       "    </tr>\n",
       "    <tr>\n",
       "      <th>4</th>\n",
       "      <td>99</td>\n",
       "      <td>104</td>\n",
       "      <td>67</td>\n",
       "      <td>48</td>\n",
       "      <td>120</td>\n",
       "      <td>94</td>\n",
       "      <td>90</td>\n",
       "      <td>30</td>\n",
       "    </tr>\n",
       "    <tr>\n",
       "      <th>...</th>\n",
       "      <td>...</td>\n",
       "      <td>...</td>\n",
       "      <td>...</td>\n",
       "      <td>...</td>\n",
       "      <td>...</td>\n",
       "      <td>...</td>\n",
       "      <td>...</td>\n",
       "      <td>...</td>\n",
       "    </tr>\n",
       "    <tr>\n",
       "      <th>1380</th>\n",
       "      <td>122</td>\n",
       "      <td>59</td>\n",
       "      <td>78</td>\n",
       "      <td>106</td>\n",
       "      <td>127</td>\n",
       "      <td>63</td>\n",
       "      <td>44</td>\n",
       "      <td>45</td>\n",
       "    </tr>\n",
       "    <tr>\n",
       "      <th>1381</th>\n",
       "      <td>128</td>\n",
       "      <td>102</td>\n",
       "      <td>65</td>\n",
       "      <td>99</td>\n",
       "      <td>108</td>\n",
       "      <td>97</td>\n",
       "      <td>64</td>\n",
       "      <td>41</td>\n",
       "    </tr>\n",
       "    <tr>\n",
       "      <th>1382</th>\n",
       "      <td>61</td>\n",
       "      <td>93</td>\n",
       "      <td>123</td>\n",
       "      <td>61</td>\n",
       "      <td>116</td>\n",
       "      <td>87</td>\n",
       "      <td>39</td>\n",
       "      <td>24</td>\n",
       "    </tr>\n",
       "    <tr>\n",
       "      <th>1383</th>\n",
       "      <td>70</td>\n",
       "      <td>97</td>\n",
       "      <td>104</td>\n",
       "      <td>74</td>\n",
       "      <td>47</td>\n",
       "      <td>48</td>\n",
       "      <td>81</td>\n",
       "      <td>43</td>\n",
       "    </tr>\n",
       "    <tr>\n",
       "      <th>1384</th>\n",
       "      <td>51</td>\n",
       "      <td>126</td>\n",
       "      <td>39</td>\n",
       "      <td>68</td>\n",
       "      <td>115</td>\n",
       "      <td>64</td>\n",
       "      <td>71</td>\n",
       "      <td>34</td>\n",
       "    </tr>\n",
       "  </tbody>\n",
       "</table>\n",
       "<p>1385 rows × 8 columns</p>\n",
       "</div>"
      ],
      "text/plain": [
       "      AST1  ALT1  ALT4  ALT12  ALT24  ALT36  ALT48  ALTw24\n",
       "0       99    84    52    109     81      5      5       5\n",
       "1       91   123    95     75    113     57    123      44\n",
       "2      113    49    95    107    116      5      5       5\n",
       "3       43    64   109     80     88     48     77      33\n",
       "4       99   104    67     48    120     94     90      30\n",
       "...    ...   ...   ...    ...    ...    ...    ...     ...\n",
       "1380   122    59    78    106    127     63     44      45\n",
       "1381   128   102    65     99    108     97     64      41\n",
       "1382    61    93   123     61    116     87     39      24\n",
       "1383    70    97   104     74     47     48     81      43\n",
       "1384    51   126    39     68    115     64     71      34\n",
       "\n",
       "[1385 rows x 8 columns]"
      ]
     },
     "execution_count": 13,
     "metadata": {},
     "output_type": "execute_result"
    }
   ],
   "source": [
    "df[['AST1', 'ALT1','ALT4', 'ALT12', 'ALT24', 'ALT36', 'ALT48', 'ALTw24' ]]"
   ]
  },
  {
   "cell_type": "code",
   "execution_count": 14,
   "id": "65d4684b",
   "metadata": {},
   "outputs": [
    {
     "data": {
      "text/html": [
       "<div>\n",
       "<style scoped>\n",
       "    .dataframe tbody tr th:only-of-type {\n",
       "        vertical-align: middle;\n",
       "    }\n",
       "\n",
       "    .dataframe tbody tr th {\n",
       "        vertical-align: top;\n",
       "    }\n",
       "\n",
       "    .dataframe thead th {\n",
       "        text-align: right;\n",
       "    }\n",
       "</style>\n",
       "<table border=\"1\" class=\"dataframe\">\n",
       "  <thead>\n",
       "    <tr style=\"text-align: right;\">\n",
       "      <th></th>\n",
       "      <th>RNA_base</th>\n",
       "      <th>RNA4</th>\n",
       "      <th>RNA12</th>\n",
       "      <th>RNA_eot</th>\n",
       "      <th>RNA_ef</th>\n",
       "    </tr>\n",
       "  </thead>\n",
       "  <tbody>\n",
       "    <tr>\n",
       "      <th>0</th>\n",
       "      <td>655330</td>\n",
       "      <td>634536</td>\n",
       "      <td>288194</td>\n",
       "      <td>5</td>\n",
       "      <td>5</td>\n",
       "    </tr>\n",
       "    <tr>\n",
       "      <th>1</th>\n",
       "      <td>40620</td>\n",
       "      <td>538635</td>\n",
       "      <td>637056</td>\n",
       "      <td>336804</td>\n",
       "      <td>31085</td>\n",
       "    </tr>\n",
       "    <tr>\n",
       "      <th>2</th>\n",
       "      <td>571148</td>\n",
       "      <td>661346</td>\n",
       "      <td>5</td>\n",
       "      <td>735945</td>\n",
       "      <td>558829</td>\n",
       "    </tr>\n",
       "    <tr>\n",
       "      <th>3</th>\n",
       "      <td>1041941</td>\n",
       "      <td>449939</td>\n",
       "      <td>585688</td>\n",
       "      <td>744463</td>\n",
       "      <td>582301</td>\n",
       "    </tr>\n",
       "    <tr>\n",
       "      <th>4</th>\n",
       "      <td>660410</td>\n",
       "      <td>738756</td>\n",
       "      <td>3731527</td>\n",
       "      <td>338946</td>\n",
       "      <td>242861</td>\n",
       "    </tr>\n",
       "    <tr>\n",
       "      <th>...</th>\n",
       "      <td>...</td>\n",
       "      <td>...</td>\n",
       "      <td>...</td>\n",
       "      <td>...</td>\n",
       "      <td>...</td>\n",
       "    </tr>\n",
       "    <tr>\n",
       "      <th>1380</th>\n",
       "      <td>387795</td>\n",
       "      <td>55938</td>\n",
       "      <td>5</td>\n",
       "      <td>5</td>\n",
       "      <td>5</td>\n",
       "    </tr>\n",
       "    <tr>\n",
       "      <th>1381</th>\n",
       "      <td>481378</td>\n",
       "      <td>152961</td>\n",
       "      <td>393339</td>\n",
       "      <td>73574</td>\n",
       "      <td>236273</td>\n",
       "    </tr>\n",
       "    <tr>\n",
       "      <th>1382</th>\n",
       "      <td>612664</td>\n",
       "      <td>572756</td>\n",
       "      <td>806109</td>\n",
       "      <td>343719</td>\n",
       "      <td>160457</td>\n",
       "    </tr>\n",
       "    <tr>\n",
       "      <th>1383</th>\n",
       "      <td>139872</td>\n",
       "      <td>76161</td>\n",
       "      <td>515730</td>\n",
       "      <td>2460</td>\n",
       "      <td>696074</td>\n",
       "    </tr>\n",
       "    <tr>\n",
       "      <th>1384</th>\n",
       "      <td>1190577</td>\n",
       "      <td>628730</td>\n",
       "      <td>5</td>\n",
       "      <td>5</td>\n",
       "      <td>5</td>\n",
       "    </tr>\n",
       "  </tbody>\n",
       "</table>\n",
       "<p>1385 rows × 5 columns</p>\n",
       "</div>"
      ],
      "text/plain": [
       "      RNA_base    RNA4    RNA12  RNA_eot  RNA_ef\n",
       "0       655330  634536   288194        5       5\n",
       "1        40620  538635   637056   336804   31085\n",
       "2       571148  661346        5   735945  558829\n",
       "3      1041941  449939   585688   744463  582301\n",
       "4       660410  738756  3731527   338946  242861\n",
       "...        ...     ...      ...      ...     ...\n",
       "1380    387795   55938        5        5       5\n",
       "1381    481378  152961   393339    73574  236273\n",
       "1382    612664  572756   806109   343719  160457\n",
       "1383    139872   76161   515730     2460  696074\n",
       "1384   1190577  628730        5        5       5\n",
       "\n",
       "[1385 rows x 5 columns]"
      ]
     },
     "execution_count": 14,
     "metadata": {},
     "output_type": "execute_result"
    }
   ],
   "source": [
    "df[['RNA_base', 'RNA4', 'RNA12', 'RNA_eot', 'RNA_ef']]"
   ]
  },
  {
   "cell_type": "code",
   "execution_count": 15,
   "id": "1e36efc7",
   "metadata": {},
   "outputs": [
    {
     "data": {
      "text/html": [
       "<div>\n",
       "<style scoped>\n",
       "    .dataframe tbody tr th:only-of-type {\n",
       "        vertical-align: middle;\n",
       "    }\n",
       "\n",
       "    .dataframe tbody tr th {\n",
       "        vertical-align: top;\n",
       "    }\n",
       "\n",
       "    .dataframe thead th {\n",
       "        text-align: right;\n",
       "    }\n",
       "</style>\n",
       "<table border=\"1\" class=\"dataframe\">\n",
       "  <thead>\n",
       "    <tr style=\"text-align: right;\">\n",
       "      <th></th>\n",
       "      <th>Grading</th>\n",
       "      <th>Staging</th>\n",
       "    </tr>\n",
       "  </thead>\n",
       "  <tbody>\n",
       "    <tr>\n",
       "      <th>0</th>\n",
       "      <td>13</td>\n",
       "      <td>2</td>\n",
       "    </tr>\n",
       "    <tr>\n",
       "      <th>1</th>\n",
       "      <td>4</td>\n",
       "      <td>2</td>\n",
       "    </tr>\n",
       "    <tr>\n",
       "      <th>2</th>\n",
       "      <td>4</td>\n",
       "      <td>4</td>\n",
       "    </tr>\n",
       "    <tr>\n",
       "      <th>3</th>\n",
       "      <td>10</td>\n",
       "      <td>3</td>\n",
       "    </tr>\n",
       "    <tr>\n",
       "      <th>4</th>\n",
       "      <td>11</td>\n",
       "      <td>1</td>\n",
       "    </tr>\n",
       "    <tr>\n",
       "      <th>...</th>\n",
       "      <td>...</td>\n",
       "      <td>...</td>\n",
       "    </tr>\n",
       "    <tr>\n",
       "      <th>1380</th>\n",
       "      <td>15</td>\n",
       "      <td>4</td>\n",
       "    </tr>\n",
       "    <tr>\n",
       "      <th>1381</th>\n",
       "      <td>10</td>\n",
       "      <td>2</td>\n",
       "    </tr>\n",
       "    <tr>\n",
       "      <th>1382</th>\n",
       "      <td>6</td>\n",
       "      <td>2</td>\n",
       "    </tr>\n",
       "    <tr>\n",
       "      <th>1383</th>\n",
       "      <td>15</td>\n",
       "      <td>3</td>\n",
       "    </tr>\n",
       "    <tr>\n",
       "      <th>1384</th>\n",
       "      <td>13</td>\n",
       "      <td>3</td>\n",
       "    </tr>\n",
       "  </tbody>\n",
       "</table>\n",
       "<p>1385 rows × 2 columns</p>\n",
       "</div>"
      ],
      "text/plain": [
       "      Grading  Staging\n",
       "0          13        2\n",
       "1           4        2\n",
       "2           4        4\n",
       "3          10        3\n",
       "4          11        1\n",
       "...       ...      ...\n",
       "1380       15        4\n",
       "1381       10        2\n",
       "1382        6        2\n",
       "1383       15        3\n",
       "1384       13        3\n",
       "\n",
       "[1385 rows x 2 columns]"
      ]
     },
     "execution_count": 15,
     "metadata": {},
     "output_type": "execute_result"
    }
   ],
   "source": [
    "df[['Grading', 'Staging']]"
   ]
  },
  {
   "cell_type": "code",
   "execution_count": 16,
   "id": "2d7f3a37",
   "metadata": {},
   "outputs": [
    {
     "data": {
      "text/plain": [
       "15    139\n",
       "11    121\n",
       "14    106\n",
       "9     103\n",
       "6     102\n",
       "12    101\n",
       "8      97\n",
       "13     95\n",
       "4      94\n",
       "5      93\n",
       "3      89\n",
       "10     87\n",
       "16     86\n",
       "7      72\n",
       "Name: Grading, dtype: int64"
      ]
     },
     "execution_count": 16,
     "metadata": {},
     "output_type": "execute_result"
    }
   ],
   "source": [
    "df['Grading'].value_counts()"
   ]
  },
  {
   "cell_type": "code",
   "execution_count": 17,
   "id": "8c2780c8",
   "metadata": {},
   "outputs": [
    {
     "data": {
      "text/plain": [
       "4    362\n",
       "3    355\n",
       "1    336\n",
       "2    332\n",
       "Name: Staging, dtype: int64"
      ]
     },
     "execution_count": 17,
     "metadata": {},
     "output_type": "execute_result"
    }
   ],
   "source": [
    "df['Staging'].value_counts()"
   ]
  },
  {
   "cell_type": "code",
   "execution_count": 18,
   "id": "c2966a57",
   "metadata": {},
   "outputs": [
    {
     "data": {
      "text/plain": [
       "Age  Gender  BMI  Fever  Nausea  Headache  Diarrhea  Fatigue  Jaundice  Epigastric  WBC    RBC      HGB  Plat    AST1  ALT1  ALT4  ALT12  ALT24  ALT36  ALT48  ALTw24  RNA_base  RNA4     RNA12   RNA_eot  RNA_ef  Grading  Staging  Binary_staging\n",
       "32   1       22   1      2       2         2         1        1         1           3153   4152861  11   209054  69    92    42    101    107    78     112    30      521841    96063    5       5        5       6        1        0                 1\n",
       "52   1       24   2      1       2         2         2        1         1           5905   4153369  10   208635  44    109   114   81     76     65     98     23      137086    628135   787605  598453   347435  15       3        1                 1\n",
       "             28   2      2       1         2         1        2         2           11065  4002769  15   148857  128   128   100   71     51     66     120    26      262262    595314   207550  87531    607145  9        3        1                 1\n",
       "                  1      1       2         1         1        1         1           10080  4994056  11   188334  88    41    120   99     108    51     107    23      714465    1190605  5       5        5       5        4        1                 1\n",
       "             27   2      2       2         2         1        1         2           3953   4491193  14   97842   86    115   119   117    53     73     94     41      1050143   862585   5       5        5       15       1        0                 1\n",
       "                                                                                                                                                                                                                                                      ..\n",
       "41   2       24   2      1       2         2         1        1         1           3844   4359812  13   136738  113   118   67    72     114    116    57     38      571986    503655   374834  593896   435821  3        4        1                 1\n",
       "             23   1      1       2         2         1        2         1           4964   4360420  10   215054  98    81    119   58     111    72     74     22      63213     427182   125397  424204   295244  8        1        0                 1\n",
       "                                                              1         1           4878   4462788  12   125067  68    66    103   96     93     93     94     35      796781    4794     216466  782909   491684  14       4        1                 1\n",
       "             22   2      2       2         1         2        2         1           7579   4175786  13   159041  56    124   96    84     75     62     102    38      266207    8248     5       5        5       9        4        1                 1\n",
       "61   2       34   2      1       1         1         2        2         2           9591   4102197  10   225941  86    71    40    60     112    82     49     38      66725     769749   722476  14864    468182  11       3        1                 1\n",
       "Length: 1385, dtype: int64"
      ]
     },
     "execution_count": 18,
     "metadata": {},
     "output_type": "execute_result"
    }
   ],
   "source": [
    "intermediate = df['Staging'].replace({2:0, 1:0})\n",
    "df['Binary_staging'] = intermediate.replace({3:1, 4:1})\n",
    "df.value_counts()"
   ]
  },
  {
   "cell_type": "code",
   "execution_count": 19,
   "id": "807ad6f8",
   "metadata": {},
   "outputs": [
    {
     "data": {
      "text/html": [
       "<div>\n",
       "<style scoped>\n",
       "    .dataframe tbody tr th:only-of-type {\n",
       "        vertical-align: middle;\n",
       "    }\n",
       "\n",
       "    .dataframe tbody tr th {\n",
       "        vertical-align: top;\n",
       "    }\n",
       "\n",
       "    .dataframe thead th {\n",
       "        text-align: right;\n",
       "    }\n",
       "</style>\n",
       "<table border=\"1\" class=\"dataframe\">\n",
       "  <thead>\n",
       "    <tr style=\"text-align: right;\">\n",
       "      <th></th>\n",
       "      <th>Age</th>\n",
       "      <th>Gender</th>\n",
       "      <th>BMI</th>\n",
       "      <th>Fever</th>\n",
       "      <th>Nausea</th>\n",
       "      <th>Headache</th>\n",
       "      <th>Diarrhea</th>\n",
       "      <th>Fatigue</th>\n",
       "      <th>Jaundice</th>\n",
       "      <th>Epigastric</th>\n",
       "      <th>...</th>\n",
       "      <th>ALT48</th>\n",
       "      <th>ALTw24</th>\n",
       "      <th>RNA_base</th>\n",
       "      <th>RNA4</th>\n",
       "      <th>RNA12</th>\n",
       "      <th>RNA_eot</th>\n",
       "      <th>RNA_ef</th>\n",
       "      <th>Grading</th>\n",
       "      <th>Staging</th>\n",
       "      <th>Binary_staging</th>\n",
       "    </tr>\n",
       "  </thead>\n",
       "  <tbody>\n",
       "    <tr>\n",
       "      <th>0</th>\n",
       "      <td>56</td>\n",
       "      <td>1</td>\n",
       "      <td>35</td>\n",
       "      <td>2</td>\n",
       "      <td>1</td>\n",
       "      <td>1</td>\n",
       "      <td>1</td>\n",
       "      <td>2</td>\n",
       "      <td>2</td>\n",
       "      <td>2</td>\n",
       "      <td>...</td>\n",
       "      <td>5</td>\n",
       "      <td>5</td>\n",
       "      <td>655330</td>\n",
       "      <td>634536</td>\n",
       "      <td>288194</td>\n",
       "      <td>5</td>\n",
       "      <td>5</td>\n",
       "      <td>13</td>\n",
       "      <td>2</td>\n",
       "      <td>0</td>\n",
       "    </tr>\n",
       "    <tr>\n",
       "      <th>1</th>\n",
       "      <td>46</td>\n",
       "      <td>1</td>\n",
       "      <td>29</td>\n",
       "      <td>1</td>\n",
       "      <td>2</td>\n",
       "      <td>2</td>\n",
       "      <td>1</td>\n",
       "      <td>2</td>\n",
       "      <td>2</td>\n",
       "      <td>1</td>\n",
       "      <td>...</td>\n",
       "      <td>123</td>\n",
       "      <td>44</td>\n",
       "      <td>40620</td>\n",
       "      <td>538635</td>\n",
       "      <td>637056</td>\n",
       "      <td>336804</td>\n",
       "      <td>31085</td>\n",
       "      <td>4</td>\n",
       "      <td>2</td>\n",
       "      <td>0</td>\n",
       "    </tr>\n",
       "    <tr>\n",
       "      <th>2</th>\n",
       "      <td>57</td>\n",
       "      <td>1</td>\n",
       "      <td>33</td>\n",
       "      <td>2</td>\n",
       "      <td>2</td>\n",
       "      <td>2</td>\n",
       "      <td>2</td>\n",
       "      <td>1</td>\n",
       "      <td>1</td>\n",
       "      <td>1</td>\n",
       "      <td>...</td>\n",
       "      <td>5</td>\n",
       "      <td>5</td>\n",
       "      <td>571148</td>\n",
       "      <td>661346</td>\n",
       "      <td>5</td>\n",
       "      <td>735945</td>\n",
       "      <td>558829</td>\n",
       "      <td>4</td>\n",
       "      <td>4</td>\n",
       "      <td>1</td>\n",
       "    </tr>\n",
       "    <tr>\n",
       "      <th>3</th>\n",
       "      <td>49</td>\n",
       "      <td>2</td>\n",
       "      <td>33</td>\n",
       "      <td>1</td>\n",
       "      <td>2</td>\n",
       "      <td>1</td>\n",
       "      <td>2</td>\n",
       "      <td>1</td>\n",
       "      <td>2</td>\n",
       "      <td>1</td>\n",
       "      <td>...</td>\n",
       "      <td>77</td>\n",
       "      <td>33</td>\n",
       "      <td>1041941</td>\n",
       "      <td>449939</td>\n",
       "      <td>585688</td>\n",
       "      <td>744463</td>\n",
       "      <td>582301</td>\n",
       "      <td>10</td>\n",
       "      <td>3</td>\n",
       "      <td>1</td>\n",
       "    </tr>\n",
       "    <tr>\n",
       "      <th>4</th>\n",
       "      <td>59</td>\n",
       "      <td>1</td>\n",
       "      <td>32</td>\n",
       "      <td>1</td>\n",
       "      <td>1</td>\n",
       "      <td>2</td>\n",
       "      <td>1</td>\n",
       "      <td>2</td>\n",
       "      <td>2</td>\n",
       "      <td>2</td>\n",
       "      <td>...</td>\n",
       "      <td>90</td>\n",
       "      <td>30</td>\n",
       "      <td>660410</td>\n",
       "      <td>738756</td>\n",
       "      <td>3731527</td>\n",
       "      <td>338946</td>\n",
       "      <td>242861</td>\n",
       "      <td>11</td>\n",
       "      <td>1</td>\n",
       "      <td>0</td>\n",
       "    </tr>\n",
       "    <tr>\n",
       "      <th>...</th>\n",
       "      <td>...</td>\n",
       "      <td>...</td>\n",
       "      <td>...</td>\n",
       "      <td>...</td>\n",
       "      <td>...</td>\n",
       "      <td>...</td>\n",
       "      <td>...</td>\n",
       "      <td>...</td>\n",
       "      <td>...</td>\n",
       "      <td>...</td>\n",
       "      <td>...</td>\n",
       "      <td>...</td>\n",
       "      <td>...</td>\n",
       "      <td>...</td>\n",
       "      <td>...</td>\n",
       "      <td>...</td>\n",
       "      <td>...</td>\n",
       "      <td>...</td>\n",
       "      <td>...</td>\n",
       "      <td>...</td>\n",
       "      <td>...</td>\n",
       "    </tr>\n",
       "    <tr>\n",
       "      <th>1380</th>\n",
       "      <td>44</td>\n",
       "      <td>1</td>\n",
       "      <td>29</td>\n",
       "      <td>1</td>\n",
       "      <td>2</td>\n",
       "      <td>2</td>\n",
       "      <td>2</td>\n",
       "      <td>1</td>\n",
       "      <td>1</td>\n",
       "      <td>1</td>\n",
       "      <td>...</td>\n",
       "      <td>44</td>\n",
       "      <td>45</td>\n",
       "      <td>387795</td>\n",
       "      <td>55938</td>\n",
       "      <td>5</td>\n",
       "      <td>5</td>\n",
       "      <td>5</td>\n",
       "      <td>15</td>\n",
       "      <td>4</td>\n",
       "      <td>1</td>\n",
       "    </tr>\n",
       "    <tr>\n",
       "      <th>1381</th>\n",
       "      <td>55</td>\n",
       "      <td>1</td>\n",
       "      <td>34</td>\n",
       "      <td>1</td>\n",
       "      <td>2</td>\n",
       "      <td>2</td>\n",
       "      <td>1</td>\n",
       "      <td>1</td>\n",
       "      <td>1</td>\n",
       "      <td>1</td>\n",
       "      <td>...</td>\n",
       "      <td>64</td>\n",
       "      <td>41</td>\n",
       "      <td>481378</td>\n",
       "      <td>152961</td>\n",
       "      <td>393339</td>\n",
       "      <td>73574</td>\n",
       "      <td>236273</td>\n",
       "      <td>10</td>\n",
       "      <td>2</td>\n",
       "      <td>0</td>\n",
       "    </tr>\n",
       "    <tr>\n",
       "      <th>1382</th>\n",
       "      <td>42</td>\n",
       "      <td>1</td>\n",
       "      <td>26</td>\n",
       "      <td>2</td>\n",
       "      <td>2</td>\n",
       "      <td>1</td>\n",
       "      <td>1</td>\n",
       "      <td>1</td>\n",
       "      <td>2</td>\n",
       "      <td>1</td>\n",
       "      <td>...</td>\n",
       "      <td>39</td>\n",
       "      <td>24</td>\n",
       "      <td>612664</td>\n",
       "      <td>572756</td>\n",
       "      <td>806109</td>\n",
       "      <td>343719</td>\n",
       "      <td>160457</td>\n",
       "      <td>6</td>\n",
       "      <td>2</td>\n",
       "      <td>0</td>\n",
       "    </tr>\n",
       "    <tr>\n",
       "      <th>1383</th>\n",
       "      <td>52</td>\n",
       "      <td>1</td>\n",
       "      <td>29</td>\n",
       "      <td>2</td>\n",
       "      <td>1</td>\n",
       "      <td>1</td>\n",
       "      <td>2</td>\n",
       "      <td>2</td>\n",
       "      <td>2</td>\n",
       "      <td>1</td>\n",
       "      <td>...</td>\n",
       "      <td>81</td>\n",
       "      <td>43</td>\n",
       "      <td>139872</td>\n",
       "      <td>76161</td>\n",
       "      <td>515730</td>\n",
       "      <td>2460</td>\n",
       "      <td>696074</td>\n",
       "      <td>15</td>\n",
       "      <td>3</td>\n",
       "      <td>1</td>\n",
       "    </tr>\n",
       "    <tr>\n",
       "      <th>1384</th>\n",
       "      <td>55</td>\n",
       "      <td>2</td>\n",
       "      <td>26</td>\n",
       "      <td>1</td>\n",
       "      <td>2</td>\n",
       "      <td>2</td>\n",
       "      <td>2</td>\n",
       "      <td>1</td>\n",
       "      <td>2</td>\n",
       "      <td>1</td>\n",
       "      <td>...</td>\n",
       "      <td>71</td>\n",
       "      <td>34</td>\n",
       "      <td>1190577</td>\n",
       "      <td>628730</td>\n",
       "      <td>5</td>\n",
       "      <td>5</td>\n",
       "      <td>5</td>\n",
       "      <td>13</td>\n",
       "      <td>3</td>\n",
       "      <td>1</td>\n",
       "    </tr>\n",
       "  </tbody>\n",
       "</table>\n",
       "<p>1385 rows × 30 columns</p>\n",
       "</div>"
      ],
      "text/plain": [
       "      Age  Gender  BMI  Fever  Nausea  Headache  Diarrhea  Fatigue  Jaundice  \\\n",
       "0      56       1   35      2       1         1         1        2         2   \n",
       "1      46       1   29      1       2         2         1        2         2   \n",
       "2      57       1   33      2       2         2         2        1         1   \n",
       "3      49       2   33      1       2         1         2        1         2   \n",
       "4      59       1   32      1       1         2         1        2         2   \n",
       "...   ...     ...  ...    ...     ...       ...       ...      ...       ...   \n",
       "1380   44       1   29      1       2         2         2        1         1   \n",
       "1381   55       1   34      1       2         2         1        1         1   \n",
       "1382   42       1   26      2       2         1         1        1         2   \n",
       "1383   52       1   29      2       1         1         2        2         2   \n",
       "1384   55       2   26      1       2         2         2        1         2   \n",
       "\n",
       "      Epigastric  ...  ALT48  ALTw24  RNA_base    RNA4    RNA12  RNA_eot  \\\n",
       "0              2  ...      5       5    655330  634536   288194        5   \n",
       "1              1  ...    123      44     40620  538635   637056   336804   \n",
       "2              1  ...      5       5    571148  661346        5   735945   \n",
       "3              1  ...     77      33   1041941  449939   585688   744463   \n",
       "4              2  ...     90      30    660410  738756  3731527   338946   \n",
       "...          ...  ...    ...     ...       ...     ...      ...      ...   \n",
       "1380           1  ...     44      45    387795   55938        5        5   \n",
       "1381           1  ...     64      41    481378  152961   393339    73574   \n",
       "1382           1  ...     39      24    612664  572756   806109   343719   \n",
       "1383           1  ...     81      43    139872   76161   515730     2460   \n",
       "1384           1  ...     71      34   1190577  628730        5        5   \n",
       "\n",
       "      RNA_ef  Grading  Staging  Binary_staging  \n",
       "0          5       13        2               0  \n",
       "1      31085        4        2               0  \n",
       "2     558829        4        4               1  \n",
       "3     582301       10        3               1  \n",
       "4     242861       11        1               0  \n",
       "...      ...      ...      ...             ...  \n",
       "1380       5       15        4               1  \n",
       "1381  236273       10        2               0  \n",
       "1382  160457        6        2               0  \n",
       "1383  696074       15        3               1  \n",
       "1384       5       13        3               1  \n",
       "\n",
       "[1385 rows x 30 columns]"
      ]
     },
     "execution_count": 19,
     "metadata": {},
     "output_type": "execute_result"
    }
   ],
   "source": [
    "df"
   ]
  },
  {
   "cell_type": "code",
   "execution_count": 20,
   "id": "e13ec9de",
   "metadata": {},
   "outputs": [],
   "source": [
    "from sklearn.decomposition import PCA\n",
    "from sklearn.pipeline import Pipeline\n",
    "from sklearn.model_selection import GridSearchCV , train_test_split\n",
    "from sklearn.ensemble import RandomForestClassifier\n",
    "from sklearn.model_selection import train_test_split\n",
    "from sklearn.preprocessing import MinMaxScaler"
   ]
  },
  {
   "cell_type": "code",
   "execution_count": 56,
   "id": "3727e366",
   "metadata": {},
   "outputs": [],
   "source": [
    "X = df.drop(['Staging','Binary_staging'],axis=1)\n",
    "Y = df['Binary_staging']"
   ]
  },
  {
   "cell_type": "code",
   "execution_count": 57,
   "id": "2b80770a",
   "metadata": {},
   "outputs": [
    {
     "data": {
      "text/plain": [
       "(1385, 28)"
      ]
     },
     "execution_count": 57,
     "metadata": {},
     "output_type": "execute_result"
    }
   ],
   "source": [
    "X.shape"
   ]
  },
  {
   "cell_type": "code",
   "execution_count": 58,
   "id": "2a53922d",
   "metadata": {},
   "outputs": [
    {
     "data": {
      "text/plain": [
       "(1385, 28)"
      ]
     },
     "execution_count": 58,
     "metadata": {},
     "output_type": "execute_result"
    }
   ],
   "source": [
    "X.shape"
   ]
  },
  {
   "cell_type": "code",
   "execution_count": 59,
   "id": "ca9280ae",
   "metadata": {},
   "outputs": [
    {
     "data": {
      "text/plain": [
       "0       0\n",
       "1       0\n",
       "2       1\n",
       "3       1\n",
       "4       0\n",
       "       ..\n",
       "1380    1\n",
       "1381    0\n",
       "1382    0\n",
       "1383    1\n",
       "1384    1\n",
       "Name: Binary_staging, Length: 1385, dtype: int64"
      ]
     },
     "execution_count": 59,
     "metadata": {},
     "output_type": "execute_result"
    }
   ],
   "source": [
    "y"
   ]
  },
  {
   "cell_type": "code",
   "execution_count": 60,
   "id": "f5ccbae5",
   "metadata": {},
   "outputs": [
    {
     "data": {
      "text/plain": [
       "1    717\n",
       "0    668\n",
       "Name: Binary_staging, dtype: int64"
      ]
     },
     "execution_count": 60,
     "metadata": {},
     "output_type": "execute_result"
    }
   ],
   "source": [
    "Y.value_counts()"
   ]
  },
  {
   "cell_type": "code",
   "execution_count": 61,
   "id": "3edb756b",
   "metadata": {},
   "outputs": [
    {
     "data": {
      "text/plain": [
       "(1385, 28)"
      ]
     },
     "execution_count": 61,
     "metadata": {},
     "output_type": "execute_result"
    }
   ],
   "source": [
    "X.shape"
   ]
  },
  {
   "cell_type": "code",
   "execution_count": null,
   "id": "28c5343e",
   "metadata": {},
   "outputs": [],
   "source": []
  },
  {
   "cell_type": "code",
   "execution_count": 62,
   "id": "a61613c3",
   "metadata": {},
   "outputs": [],
   "source": [
    "#splitting up the dataset\n",
    "# Split the data into training and validation sets\n",
    "X_train, X_val, y_train, y_val = train_test_split(X, Y, test_size=0.2, random_state=42)"
   ]
  },
  {
   "cell_type": "code",
   "execution_count": 63,
   "id": "0f704e2c",
   "metadata": {},
   "outputs": [
    {
     "data": {
      "text/plain": [
       "(1108, 28)"
      ]
     },
     "execution_count": 63,
     "metadata": {},
     "output_type": "execute_result"
    }
   ],
   "source": [
    "X_train.shape"
   ]
  },
  {
   "cell_type": "code",
   "execution_count": null,
   "id": "f36d7667",
   "metadata": {},
   "outputs": [],
   "source": []
  },
  {
   "cell_type": "code",
   "execution_count": 82,
   "id": "d1a70857",
   "metadata": {},
   "outputs": [],
   "source": [
    "std = MinMaxScaler()\n",
    "X_train_std = std.fit_transform(X_train)\n",
    "X_val_std = std.transform(X_val)"
   ]
  },
  {
   "cell_type": "code",
   "execution_count": 65,
   "id": "ca7f74dc",
   "metadata": {},
   "outputs": [
    {
     "name": "stdout",
     "output_type": "stream",
     "text": [
      "[0.07620101 0.07533136 0.07204365 0.07091211 0.07015129 0.0681075\n",
      " 0.06463052 0.06205789 0.04426285 0.03292093 0.02979304 0.02824781\n",
      " 0.02616027 0.02565596 0.02506915 0.02418699 0.02410648 0.02353447\n",
      " 0.02262093 0.02212192 0.02156883 0.02058785 0.02009662 0.01583386\n",
      " 0.01220247 0.01187404 0.00847971 0.00124047]\n"
     ]
    }
   ],
   "source": [
    "# Perform PCA\n",
    "pca = PCA()\n",
    "pca.fit(X_train_std)\n",
    "\n",
    "# Get the explained variance ratios\n",
    "explained_variance_ratio = pca.explained_variance_ratio_\n",
    "\n",
    "\n",
    "print(explained_variance_ratio)"
   ]
  },
  {
   "cell_type": "code",
   "execution_count": 66,
   "id": "70277c28",
   "metadata": {},
   "outputs": [
    {
     "data": {
      "text/plain": [
       "[0.07620100827003977,\n",
       " 0.07533136123447579,\n",
       " 0.0720436501244448,\n",
       " 0.07091210942462835,\n",
       " 0.07015129356211666,\n",
       " 0.0681075042086425,\n",
       " 0.06463051580286588,\n",
       " 0.062057893653409725,\n",
       " 0.044262853576919316,\n",
       " 0.03292092742568735,\n",
       " 0.02979304214176735,\n",
       " 0.028247814362282735,\n",
       " 0.026160265469527204,\n",
       " 0.025655964719148147,\n",
       " 0.025069148702482707,\n",
       " 0.024186993186473486,\n",
       " 0.02410648353891446,\n",
       " 0.02353446962987156,\n",
       " 0.022620927202793906,\n",
       " 0.02212192302261257,\n",
       " 0.021568828094803226,\n",
       " 0.020587847539367758,\n",
       " 0.02009662257969703,\n",
       " 0.015833864983584488,\n",
       " 0.012202469480322166,\n",
       " 0.01187404397964309,\n",
       " 0.008479708243179607,\n",
       " 0.0012404658402983353]"
      ]
     },
     "execution_count": 66,
     "metadata": {},
     "output_type": "execute_result"
    }
   ],
   "source": [
    "sorted(explained_variance_ratio, reverse=True)"
   ]
  },
  {
   "cell_type": "code",
   "execution_count": 67,
   "id": "2666a089",
   "metadata": {},
   "outputs": [],
   "source": [
    "cum = np.cumsum(sorted(explained_variance_ratio, reverse=True))"
   ]
  },
  {
   "cell_type": "code",
   "execution_count": 68,
   "id": "dc4ae94b",
   "metadata": {},
   "outputs": [
    {
     "data": {
      "text/plain": [
       "array([0.07620101, 0.15153237, 0.22357602, 0.29448813, 0.36463942,\n",
       "       0.43274693, 0.49737744, 0.55943534, 0.60369819, 0.63661912,\n",
       "       0.66641216, 0.69465997, 0.72082024, 0.7464762 , 0.77154535,\n",
       "       0.79573235, 0.81983883, 0.8433733 , 0.86599423, 0.88811615])"
      ]
     },
     "execution_count": 68,
     "metadata": {},
     "output_type": "execute_result"
    }
   ],
   "source": [
    "cum[cum<0.9]"
   ]
  },
  {
   "cell_type": "code",
   "execution_count": 69,
   "id": "04631ef3",
   "metadata": {},
   "outputs": [
    {
     "data": {
      "text/plain": [
       "(20,)"
      ]
     },
     "execution_count": 69,
     "metadata": {},
     "output_type": "execute_result"
    }
   ],
   "source": [
    "cum[cum<0.9].shape"
   ]
  },
  {
   "cell_type": "code",
   "execution_count": 70,
   "id": "cca8ef5b",
   "metadata": {},
   "outputs": [
    {
     "data": {
      "image/png": "[encoded data removed]",
      "text/plain": [
       "<Figure size 432x288 with 1 Axes>"
      ]
     },
     "metadata": {
      "needs_background": "light"
     },
     "output_type": "display_data"
    }
   ],
   "source": [
    "#Plot the explained variance ratios\n",
    "plt.plot(np.arange(1, len(explained_variance_ratio) + 1), cum)\n",
    "plt.xlabel('Principal Component')\n",
    "plt.ylabel('Explained Variance Ratio')\n",
    "plt.title('Explained Variance Ratio per Principal Component')\n",
    "plt.grid()\n",
    "plt.show()"
   ]
  },
  {
   "cell_type": "code",
   "execution_count": 71,
   "id": "db350371",
   "metadata": {},
   "outputs": [],
   "source": [
    "X_train_pca = pca.transform(X_train_std)\n",
    "X_val_pca = pca.transform(X_val_std)"
   ]
  },
  {
   "cell_type": "code",
   "execution_count": 72,
   "id": "db897f61",
   "metadata": {},
   "outputs": [
    {
     "data": {
      "text/plain": [
       "(1108, 28)"
      ]
     },
     "execution_count": 72,
     "metadata": {},
     "output_type": "execute_result"
    }
   ],
   "source": [
    "X_train_pca.shape"
   ]
  },
  {
   "cell_type": "code",
   "execution_count": 73,
   "id": "23934094",
   "metadata": {},
   "outputs": [],
   "source": [
    "# from sklearn.neighbors import KNeighborsClassifier\n",
    "\n",
    "# start = perf_counter()\n",
    "# model = KNeighborsClassifier()\n",
    "# param_grid = {'n_neighbors':[2,3,4,5,6,7,8,9]}\n",
    "\n",
    "# classifier = GridSearchCV(estimator = model, param_grid=param_grid, cv = 10, scoring='f1_macro', n_jobs=-1)\n",
    "# classifier.fit(X_train_pca, y_train)\n",
    "# end = perf_counter()\n",
    "# print(f\"Time taken for training kNN classifier {end-start:.2f} secs\")"
   ]
  },
  {
   "cell_type": "markdown",
   "id": "15b4fbf5",
   "metadata": {},
   "source": [
    "##### Random Forest classifer"
   ]
  },
  {
   "cell_type": "code",
   "execution_count": 74,
   "id": "ed444008",
   "metadata": {},
   "outputs": [
    {
     "name": "stdout",
     "output_type": "stream",
     "text": [
      "Time taken for training RandomForestClassifier 258.61 secs\n"
     ]
    }
   ],
   "source": [
    "start = perf_counter()\n",
    "model = RandomForestClassifier()\n",
    "param_grid = {'n_estimators': [20, 30, 50, 70, 90, 110, 130, 150, 200, 250, 300],\n",
    "              'max_depth':[30,35, 50, 70, 100]}\n",
    "\n",
    "classifier = GridSearchCV(estimator = model, param_grid=param_grid, cv = 10, scoring='f1_macro', n_jobs=-1)\n",
    "classifier.fit(X_train_pca, y_train)\n",
    "end = perf_counter()\n",
    "print(f\"Time taken for training RandomForestClassifier {end-start:.2f} secs\")"
   ]
  },
  {
   "cell_type": "code",
   "execution_count": 75,
   "id": "56117ee0",
   "metadata": {},
   "outputs": [
    {
     "data": {
      "text/plain": [
       "array([0, 0, 0, 0, 0, 0, 0, 0, 1, 1, 1, 0, 1, 1, 0, 0, 0, 1, 1, 1, 1, 1,\n",
       "       0, 0, 0, 1, 0, 0, 0, 0, 1, 1, 1, 1, 1, 0, 1, 0, 1, 0, 0, 1, 0, 1,\n",
       "       1, 0, 0, 0, 1, 0, 0, 0, 0, 0, 0, 1, 0, 0, 1, 0, 0, 0, 0, 1, 0, 0,\n",
       "       1, 0, 1, 1, 0, 0, 1, 1, 1, 1, 1, 0, 1, 1, 1, 0, 0, 0, 1, 0, 0, 0,\n",
       "       0, 0, 0, 0, 1, 0, 0, 1, 1, 0, 0, 0, 0, 0, 0, 0, 1, 0, 1, 1, 1, 1,\n",
       "       1, 1, 1, 0, 1, 1, 1, 0, 0, 0, 0, 1, 1, 1, 0, 1, 0, 1, 0, 1, 1, 1,\n",
       "       1, 1, 0, 0, 0, 0, 0, 1, 1, 1, 1, 1, 1, 1, 1, 1, 0, 1, 1, 0, 0, 0,\n",
       "       0, 0, 1, 0, 1, 1, 1, 0, 1, 0, 0, 1, 1, 0, 1, 1, 0, 0, 1, 1, 1, 0,\n",
       "       0, 1, 0, 0, 0, 1, 0, 1, 0, 1, 1, 1, 1, 1, 1, 0, 1, 0, 0, 0, 1, 0,\n",
       "       0, 1, 0, 0, 0, 0, 0, 1, 0, 0, 1, 0, 0, 0, 0, 0, 1, 1, 1, 0, 1, 0,\n",
       "       0, 1, 0, 1, 1, 1, 1, 1, 0, 0, 0, 1, 1, 0, 0, 1, 1, 1, 1, 0, 0, 0,\n",
       "       1, 0, 0, 0, 0, 1, 1, 1, 1, 0, 0, 1, 1, 1, 0, 0, 1, 1, 0, 1, 0, 1,\n",
       "       1, 1, 1, 0, 1, 0, 1, 0, 1, 0, 1, 1, 0], dtype=int64)"
      ]
     },
     "execution_count": 75,
     "metadata": {},
     "output_type": "execute_result"
    }
   ],
   "source": [
    "y_pred = classifier.predict(X_val_pca)\n",
    "y_pred"
   ]
  },
  {
   "cell_type": "code",
   "execution_count": 76,
   "id": "c5d7e1b0",
   "metadata": {},
   "outputs": [
    {
     "name": "stdout",
     "output_type": "stream",
     "text": [
      "0.5088652482269503\n"
     ]
    }
   ],
   "source": [
    "from sklearn.metrics import f1_score\n",
    "f2 = f1_score(y_val, y_pred,average='macro')\n",
    "print(f2)"
   ]
  },
  {
   "cell_type": "code",
   "execution_count": 77,
   "id": "e279d372",
   "metadata": {},
   "outputs": [
    {
     "data": {
      "text/plain": [
       "{'max_depth': 35, 'n_estimators': 20}"
      ]
     },
     "execution_count": 77,
     "metadata": {},
     "output_type": "execute_result"
    }
   ],
   "source": [
    "classifier.best_params_"
   ]
  },
  {
   "cell_type": "code",
   "execution_count": 78,
   "id": "6a7dad14",
   "metadata": {},
   "outputs": [],
   "source": [
    "import pickle"
   ]
  },
  {
   "cell_type": "code",
   "execution_count": 79,
   "id": "466fe0c8",
   "metadata": {},
   "outputs": [],
   "source": [
    "with open (\"model1.pkl\",'wb') as f:\n",
    "    pickle.dump(classifier,f)"
   ]
  },
  {
   "cell_type": "code",
   "execution_count": 83,
   "id": "72396fdb",
   "metadata": {},
   "outputs": [],
   "source": [
    "# Save MinMaxScaler\n",
    "with open('scaler.pkl', 'wb') as f:\n",
    "    pickle.dump(std, f)\n",
    "\n",
    "# Save PCA\n",
    "with open('pca.pkl', 'wb') as f:\n",
    "    pickle.dump(pca, f)\n"
   ]
  },
  {
   "cell_type": "code",
   "execution_count": 49,
   "id": "b8958596",
   "metadata": {},
   "outputs": [],
   "source": [
    "with open('HCV-Egy-Data.csv', 'r') as file:\n",
    "    headers = file.readline().strip().split(',')\n",
    "    n_features = len(headers)\n",
    "    n_samples = sum(1 for line in file)\n"
   ]
  },
  {
   "cell_type": "code",
   "execution_count": 50,
   "id": "3b727598",
   "metadata": {},
   "outputs": [
    {
     "data": {
      "text/plain": [
       "1385"
      ]
     },
     "execution_count": 50,
     "metadata": {},
     "output_type": "execute_result"
    }
   ],
   "source": [
    "n_samples"
   ]
  },
  {
   "cell_type": "code",
   "execution_count": 51,
   "id": "33138fea",
   "metadata": {},
   "outputs": [
    {
     "data": {
      "text/plain": [
       "29"
      ]
     },
     "execution_count": 51,
     "metadata": {},
     "output_type": "execute_result"
    }
   ],
   "source": [
    "n_features"
   ]
  },
  {
   "cell_type": "code",
   "execution_count": null,
   "id": "a39aacd0",
   "metadata": {},
   "outputs": [],
   "source": []
  }
 ],
 "metadata": {
  "kernelspec": {
   "display_name": "Python 3",
   "language": "python",
   "name": "python3"
  },
  "language_info": {
   "codemirror_mode": {
    "name": "ipython",
    "version": 3
   },
   "file_extension": ".py",
   "mimetype": "text/x-python",
   "name": "python",
   "nbconvert_exporter": "python",
   "pygments_lexer": "ipython3",
   "version": "3.8.8"
  }
 },
 "nbformat": 4,
 "nbformat_minor": 5
}
